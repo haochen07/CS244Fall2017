{
 "cells": [
  {
   "cell_type": "markdown",
   "metadata": {
    "collapsed": true
   },
   "source": [
    "# Activity Classification"
   ]
  },
  {
   "cell_type": "code",
   "execution_count": 1,
   "metadata": {
    "collapsed": true
   },
   "outputs": [],
   "source": [
    "import numpy as np\n",
    "import pandas as pd\n",
    "import sklearn as skl\n",
    "from sklearn import svm\n",
    "from sklearn.metrics import accuracy_score\n",
    "from sklearn.model_selection import train_test_split\n",
    "from sklearn.utils import shuffle"
   ]
  },
  {
   "cell_type": "markdown",
   "metadata": {},
   "source": [
    "## 1. Build classifier\n",
    "- **Load data samples**"
   ]
  },
  {
   "cell_type": "code",
   "execution_count": 2,
   "metadata": {
    "collapsed": false
   },
   "outputs": [
    {
     "name": "stdout",
     "output_type": "stream",
     "text": [
      "Shape of Data: (4500, 21)\n"
     ]
    },
    {
     "data": {
      "text/html": [
       "<div>\n",
       "<table border=\"1\" class=\"dataframe\">\n",
       "  <thead>\n",
       "    <tr style=\"text-align: right;\">\n",
       "      <th></th>\n",
       "      <th>Time stamp</th>\n",
       "      <th>X</th>\n",
       "      <th>Y</th>\n",
       "      <th>Z</th>\n",
       "      <th>Activity</th>\n",
       "      <th>X.1</th>\n",
       "      <th>Y.1</th>\n",
       "      <th>Z.1</th>\n",
       "      <th>Activity .1</th>\n",
       "      <th>X.2</th>\n",
       "      <th>...</th>\n",
       "      <th>Z.2</th>\n",
       "      <th>Activity .2</th>\n",
       "      <th>X.3</th>\n",
       "      <th>Y.3</th>\n",
       "      <th>Z.3</th>\n",
       "      <th>Activity .3</th>\n",
       "      <th>X.4</th>\n",
       "      <th>Y.4</th>\n",
       "      <th>Z.4</th>\n",
       "      <th>Activity .4</th>\n",
       "    </tr>\n",
       "  </thead>\n",
       "  <tbody>\n",
       "    <tr>\n",
       "      <th>0</th>\n",
       "      <td>0.00</td>\n",
       "      <td>-1.44</td>\n",
       "      <td>6.97</td>\n",
       "      <td>6.67</td>\n",
       "      <td>1</td>\n",
       "      <td>-5.46</td>\n",
       "      <td>7.24</td>\n",
       "      <td>3.51</td>\n",
       "      <td>2</td>\n",
       "      <td>4.88</td>\n",
       "      <td>...</td>\n",
       "      <td>1.77</td>\n",
       "      <td>3</td>\n",
       "      <td>8.64</td>\n",
       "      <td>-12.19</td>\n",
       "      <td>4.34</td>\n",
       "      <td>4</td>\n",
       "      <td>14.13</td>\n",
       "      <td>-1.27</td>\n",
       "      <td>7.43</td>\n",
       "      <td>5</td>\n",
       "    </tr>\n",
       "    <tr>\n",
       "      <th>1</th>\n",
       "      <td>0.02</td>\n",
       "      <td>-1.50</td>\n",
       "      <td>6.90</td>\n",
       "      <td>6.62</td>\n",
       "      <td>1</td>\n",
       "      <td>-5.52</td>\n",
       "      <td>7.34</td>\n",
       "      <td>3.48</td>\n",
       "      <td>2</td>\n",
       "      <td>5.12</td>\n",
       "      <td>...</td>\n",
       "      <td>1.83</td>\n",
       "      <td>3</td>\n",
       "      <td>11.32</td>\n",
       "      <td>-12.78</td>\n",
       "      <td>7.61</td>\n",
       "      <td>4</td>\n",
       "      <td>19.61</td>\n",
       "      <td>1.19</td>\n",
       "      <td>7.88</td>\n",
       "      <td>5</td>\n",
       "    </tr>\n",
       "    <tr>\n",
       "      <th>2</th>\n",
       "      <td>0.04</td>\n",
       "      <td>-1.50</td>\n",
       "      <td>6.90</td>\n",
       "      <td>6.61</td>\n",
       "      <td>1</td>\n",
       "      <td>-5.42</td>\n",
       "      <td>7.30</td>\n",
       "      <td>3.73</td>\n",
       "      <td>2</td>\n",
       "      <td>5.34</td>\n",
       "      <td>...</td>\n",
       "      <td>2.15</td>\n",
       "      <td>3</td>\n",
       "      <td>9.85</td>\n",
       "      <td>-11.01</td>\n",
       "      <td>9.90</td>\n",
       "      <td>4</td>\n",
       "      <td>18.61</td>\n",
       "      <td>-2.27</td>\n",
       "      <td>9.45</td>\n",
       "      <td>5</td>\n",
       "    </tr>\n",
       "    <tr>\n",
       "      <th>3</th>\n",
       "      <td>0.06</td>\n",
       "      <td>-1.50</td>\n",
       "      <td>6.77</td>\n",
       "      <td>6.84</td>\n",
       "      <td>1</td>\n",
       "      <td>-5.43</td>\n",
       "      <td>7.40</td>\n",
       "      <td>3.40</td>\n",
       "      <td>2</td>\n",
       "      <td>5.95</td>\n",
       "      <td>...</td>\n",
       "      <td>2.32</td>\n",
       "      <td>3</td>\n",
       "      <td>7.23</td>\n",
       "      <td>-11.42</td>\n",
       "      <td>8.59</td>\n",
       "      <td>4</td>\n",
       "      <td>12.25</td>\n",
       "      <td>-3.78</td>\n",
       "      <td>8.55</td>\n",
       "      <td>5</td>\n",
       "    </tr>\n",
       "    <tr>\n",
       "      <th>4</th>\n",
       "      <td>0.08</td>\n",
       "      <td>-1.47</td>\n",
       "      <td>7.11</td>\n",
       "      <td>6.91</td>\n",
       "      <td>1</td>\n",
       "      <td>-5.43</td>\n",
       "      <td>7.36</td>\n",
       "      <td>3.39</td>\n",
       "      <td>2</td>\n",
       "      <td>6.52</td>\n",
       "      <td>...</td>\n",
       "      <td>2.60</td>\n",
       "      <td>3</td>\n",
       "      <td>5.44</td>\n",
       "      <td>-10.62</td>\n",
       "      <td>4.74</td>\n",
       "      <td>4</td>\n",
       "      <td>8.67</td>\n",
       "      <td>-2.30</td>\n",
       "      <td>5.67</td>\n",
       "      <td>5</td>\n",
       "    </tr>\n",
       "  </tbody>\n",
       "</table>\n",
       "<p>5 rows × 21 columns</p>\n",
       "</div>"
      ],
      "text/plain": [
       "   Time stamp     X     Y     Z  Activity    X.1   Y.1   Z.1  Activity .1  \\\n",
       "0        0.00 -1.44  6.97  6.67          1 -5.46  7.24  3.51            2   \n",
       "1        0.02 -1.50  6.90  6.62          1 -5.52  7.34  3.48            2   \n",
       "2        0.04 -1.50  6.90  6.61          1 -5.42  7.30  3.73            2   \n",
       "3        0.06 -1.50  6.77  6.84          1 -5.43  7.40  3.40            2   \n",
       "4        0.08 -1.47  7.11  6.91          1 -5.43  7.36  3.39            2   \n",
       "\n",
       "    X.2     ...        Z.2  Activity .2    X.3    Y.3   Z.3  Activity .3  \\\n",
       "0  4.88     ...       1.77            3   8.64 -12.19  4.34            4   \n",
       "1  5.12     ...       1.83            3  11.32 -12.78  7.61            4   \n",
       "2  5.34     ...       2.15            3   9.85 -11.01  9.90            4   \n",
       "3  5.95     ...       2.32            3   7.23 -11.42  8.59            4   \n",
       "4  6.52     ...       2.60            3   5.44 -10.62  4.74            4   \n",
       "\n",
       "     X.4   Y.4   Z.4  Activity .4  \n",
       "0  14.13 -1.27  7.43            5  \n",
       "1  19.61  1.19  7.88            5  \n",
       "2  18.61 -2.27  9.45            5  \n",
       "3  12.25 -3.78  8.55            5  \n",
       "4   8.67 -2.30  5.67            5  \n",
       "\n",
       "[5 rows x 21 columns]"
      ]
     },
     "execution_count": 2,
     "metadata": {},
     "output_type": "execute_result"
    }
   ],
   "source": [
    "data = pd.read_csv('../server/data/sampleXYZ.csv')\n",
    "\n",
    "print(\"Shape of Data: \" + str(data.shape))\n",
    "data[:5]"
   ]
  },
  {
   "cell_type": "markdown",
   "metadata": {},
   "source": [
    "- **Reshape data formats**"
   ]
  },
  {
   "cell_type": "code",
   "execution_count": 3,
   "metadata": {
    "collapsed": false
   },
   "outputs": [
    {
     "name": "stdout",
     "output_type": "stream",
     "text": [
      "Reshaped data size: (22500, 4)\n"
     ]
    },
    {
     "data": {
      "text/html": [
       "<div>\n",
       "<table border=\"1\" class=\"dataframe\">\n",
       "  <thead>\n",
       "    <tr style=\"text-align: right;\">\n",
       "      <th></th>\n",
       "      <th>X</th>\n",
       "      <th>Y</th>\n",
       "      <th>Z</th>\n",
       "      <th>Activity</th>\n",
       "    </tr>\n",
       "  </thead>\n",
       "  <tbody>\n",
       "    <tr>\n",
       "      <th>0</th>\n",
       "      <td>-1.44</td>\n",
       "      <td>6.97</td>\n",
       "      <td>6.67</td>\n",
       "      <td>1</td>\n",
       "    </tr>\n",
       "    <tr>\n",
       "      <th>1</th>\n",
       "      <td>-1.50</td>\n",
       "      <td>6.90</td>\n",
       "      <td>6.62</td>\n",
       "      <td>1</td>\n",
       "    </tr>\n",
       "    <tr>\n",
       "      <th>2</th>\n",
       "      <td>-1.50</td>\n",
       "      <td>6.90</td>\n",
       "      <td>6.61</td>\n",
       "      <td>1</td>\n",
       "    </tr>\n",
       "    <tr>\n",
       "      <th>3</th>\n",
       "      <td>-1.50</td>\n",
       "      <td>6.77</td>\n",
       "      <td>6.84</td>\n",
       "      <td>1</td>\n",
       "    </tr>\n",
       "    <tr>\n",
       "      <th>4</th>\n",
       "      <td>-1.47</td>\n",
       "      <td>7.11</td>\n",
       "      <td>6.91</td>\n",
       "      <td>1</td>\n",
       "    </tr>\n",
       "  </tbody>\n",
       "</table>\n",
       "</div>"
      ],
      "text/plain": [
       "      X     Y     Z  Activity\n",
       "0 -1.44  6.97  6.67         1\n",
       "1 -1.50  6.90  6.62         1\n",
       "2 -1.50  6.90  6.61         1\n",
       "3 -1.50  6.77  6.84         1\n",
       "4 -1.47  7.11  6.91         1"
      ]
     },
     "execution_count": 3,
     "metadata": {},
     "output_type": "execute_result"
    }
   ],
   "source": [
    "act1 = data[:][['X', 'Y', 'Z', 'Activity ']].rename(columns = { 'X':'X', 'Y':'Y', 'Z':'Z', 'Activity ':'Activity'})\n",
    "act2 = data[:][['X.1', 'Y.1', 'Z.1', 'Activity .1']].rename(columns = { 'X.1':'X', 'Y.1':'Y', 'Z.1':'Z', 'Activity .1':'Activity'})\n",
    "act3 = data[:][['X.2', 'Y.2', 'Z.2', 'Activity .2']].rename(columns = { 'X.2':'X', 'Y.2':'Y', 'Z.2':'Z', 'Activity .2':'Activity'})\n",
    "act4 = data[:][['X.3', 'Y.3', 'Z.3', 'Activity .3']].rename(columns = { 'X.3':'X', 'Y.3':'Y', 'Z.3':'Z', 'Activity .3':'Activity'})\n",
    "act5 = data[:][['X.4', 'Y.4', 'Z.4', 'Activity .4']].rename(columns = { 'X.4':'X', 'Y.4':'Y', 'Z.4':'Z', 'Activity .4':'Activity'})\n",
    "\n",
    "reshaped = pd.concat([act1, act2, act3, act4, act5], axis = 0)\n",
    "\n",
    "print(\"Reshaped data size: \" + str(reshaped.shape))\n",
    "reshaped[:5]"
   ]
  },
  {
   "cell_type": "markdown",
   "metadata": {},
   "source": [
    "- **Normalize data**"
   ]
  },
  {
   "cell_type": "code",
   "execution_count": 4,
   "metadata": {
    "collapsed": false
   },
   "outputs": [
    {
     "name": "stdout",
     "output_type": "stream",
     "text": [
      "(22500, 3) (22500, 1)\n"
     ]
    }
   ],
   "source": [
    "X = reshaped[['X', 'Y', 'Z']].values\n",
    "Y = reshaped[['Activity']].values\n",
    "mean = np.mean(X, axis=0).reshape(1,3)\n",
    "std = np.std(X, axis=0).reshape(1,3)\n",
    "X = (X - mean)/std\n",
    "\n",
    "print(X.shape, Y.shape)"
   ]
  },
  {
   "cell_type": "markdown",
   "metadata": {},
   "source": [
    "- **Split data set into training set and test set**"
   ]
  },
  {
   "cell_type": "code",
   "execution_count": 5,
   "metadata": {
    "collapsed": false
   },
   "outputs": [],
   "source": [
    "X_train, X_test, Y_train, Y_test = train_test_split(X, Y, test_size=0.20)"
   ]
  },
  {
   "cell_type": "markdown",
   "metadata": {},
   "source": [
    "- **Train SVM classifier**"
   ]
  },
  {
   "cell_type": "code",
   "execution_count": 6,
   "metadata": {
    "collapsed": false
   },
   "outputs": [
    {
     "name": "stderr",
     "output_type": "stream",
     "text": [
      "/Applications/anaconda/lib/python3.5/site-packages/sklearn/utils/validation.py:526: DataConversionWarning: A column-vector y was passed when a 1d array was expected. Please change the shape of y to (n_samples, ), for example using ravel().\n",
      "  y = column_or_1d(y, warn=True)\n"
     ]
    },
    {
     "data": {
      "text/plain": [
       "SVC(C=1.0, cache_size=200, class_weight=None, coef0=0.0,\n",
       "  decision_function_shape=None, degree=3, gamma=0.7, kernel='rbf',\n",
       "  max_iter=-1, probability=False, random_state=None, shrinking=True,\n",
       "  tol=0.001, verbose=False)"
      ]
     },
     "execution_count": 6,
     "metadata": {},
     "output_type": "execute_result"
    }
   ],
   "source": [
    "clf = svm.SVC(kernel = 'rbf', gamma = 0.7)\n",
    "clf.fit(X_train, Y_train)"
   ]
  },
  {
   "cell_type": "markdown",
   "metadata": {},
   "source": [
    "- **Test model performance**"
   ]
  },
  {
   "cell_type": "code",
   "execution_count": 7,
   "metadata": {
    "collapsed": false
   },
   "outputs": [
    {
     "name": "stdout",
     "output_type": "stream",
     "text": [
      "Training Set Error Rate: 0.0724444444444\n",
      "Test Set Error Rate: 0.0693333333333\n"
     ]
    }
   ],
   "source": [
    "Y_train_pred = clf.predict(X_train)\n",
    "Y_test_pred = clf.predict(X_test)\n",
    "train_error = 1 - accuracy_score(Y_train, Y_train_pred)\n",
    "test_error = 1 - accuracy_score(Y_test, Y_test_pred)\n",
    "\n",
    "print(\"Training Set Error Rate: \" + str(train_error))\n",
    "print(\"Test Set Error Rate: \" + str(test_error))"
   ]
  },
  {
   "cell_type": "markdown",
   "metadata": {},
   "source": [
    "## 2. Predict Experiment Data\n",
    "- **Load experiment data**"
   ]
  },
  {
   "cell_type": "code",
   "execution_count": 8,
   "metadata": {
    "collapsed": false
   },
   "outputs": [
    {
     "name": "stdout",
     "output_type": "stream",
     "text": [
      "Shape of Data: (14000, 8)\n"
     ]
    },
    {
     "data": {
      "text/html": [
       "<div>\n",
       "<table border=\"1\" class=\"dataframe\">\n",
       "  <thead>\n",
       "    <tr style=\"text-align: right;\">\n",
       "      <th></th>\n",
       "      <th>IR</th>\n",
       "      <th>RED</th>\n",
       "      <th>heart_rate</th>\n",
       "      <th>respiration_rate</th>\n",
       "      <th>SPO2</th>\n",
       "      <th>X</th>\n",
       "      <th>Y</th>\n",
       "      <th>Z</th>\n",
       "    </tr>\n",
       "  </thead>\n",
       "  <tbody>\n",
       "    <tr>\n",
       "      <th>0</th>\n",
       "      <td>118885</td>\n",
       "      <td>100363</td>\n",
       "      <td>92.307692</td>\n",
       "      <td>17.647059</td>\n",
       "      <td>80.151701</td>\n",
       "      <td>-0.088072</td>\n",
       "      <td>0.007006</td>\n",
       "      <td>0.956777</td>\n",
       "    </tr>\n",
       "    <tr>\n",
       "      <th>1</th>\n",
       "      <td>118913</td>\n",
       "      <td>100314</td>\n",
       "      <td>92.307692</td>\n",
       "      <td>17.647059</td>\n",
       "      <td>80.151701</td>\n",
       "      <td>-0.045037</td>\n",
       "      <td>0.039032</td>\n",
       "      <td>0.933759</td>\n",
       "    </tr>\n",
       "    <tr>\n",
       "      <th>2</th>\n",
       "      <td>118642</td>\n",
       "      <td>100268</td>\n",
       "      <td>92.307692</td>\n",
       "      <td>17.647059</td>\n",
       "      <td>80.151701</td>\n",
       "      <td>-0.032026</td>\n",
       "      <td>0.096078</td>\n",
       "      <td>0.831676</td>\n",
       "    </tr>\n",
       "    <tr>\n",
       "      <th>3</th>\n",
       "      <td>117757</td>\n",
       "      <td>100050</td>\n",
       "      <td>92.307692</td>\n",
       "      <td>17.647059</td>\n",
       "      <td>80.151701</td>\n",
       "      <td>0.005004</td>\n",
       "      <td>0.086070</td>\n",
       "      <td>0.824670</td>\n",
       "    </tr>\n",
       "    <tr>\n",
       "      <th>4</th>\n",
       "      <td>117224</td>\n",
       "      <td>99614</td>\n",
       "      <td>92.307692</td>\n",
       "      <td>17.647059</td>\n",
       "      <td>80.151701</td>\n",
       "      <td>0.006005</td>\n",
       "      <td>0.106086</td>\n",
       "      <td>0.837681</td>\n",
       "    </tr>\n",
       "  </tbody>\n",
       "</table>\n",
       "</div>"
      ],
      "text/plain": [
       "       IR     RED   heart_rate   respiration_rate       SPO2         X  \\\n",
       "0  118885  100363    92.307692          17.647059  80.151701 -0.088072   \n",
       "1  118913  100314    92.307692          17.647059  80.151701 -0.045037   \n",
       "2  118642  100268    92.307692          17.647059  80.151701 -0.032026   \n",
       "3  117757  100050    92.307692          17.647059  80.151701  0.005004   \n",
       "4  117224   99614    92.307692          17.647059  80.151701  0.006005   \n",
       "\n",
       "          Y         Z  \n",
       "0  0.007006  0.956777  \n",
       "1  0.039032  0.933759  \n",
       "2  0.096078  0.831676  \n",
       "3  0.086070  0.824670  \n",
       "4  0.106086  0.837681  "
      ]
     },
     "execution_count": 8,
     "metadata": {},
     "output_type": "execute_result"
    }
   ],
   "source": [
    "samples = pd.read_csv('../server/data/features_walking.csv')\n",
    "\n",
    "print(\"Shape of Data: \" + str(samples.shape))\n",
    "samples[:5]"
   ]
  },
  {
   "cell_type": "markdown",
   "metadata": {
    "collapsed": true
   },
   "source": [
    "- **Reshape and Normalize data**"
   ]
  },
  {
   "cell_type": "code",
   "execution_count": 9,
   "metadata": {
    "collapsed": false
   },
   "outputs": [
    {
     "name": "stdout",
     "output_type": "stream",
     "text": [
      "Shape of input: (14000, 3)\n",
      "[[-0.45777321  0.01377021 -0.37108304]\n",
      " [-0.03798944  0.30395092 -0.48184501]\n",
      " [ 0.08892602  0.82083247 -0.97306553]\n",
      " ..., \n",
      " [-0.13561221  0.78456215  0.5391207 ]\n",
      " [-0.58467891  1.04753332  0.50540802]\n",
      " [-0.49682037  1.21076337  1.32892409]]\n",
      "Shape of output: (14000, 1)\n",
      "[[ 3.]\n",
      " [ 3.]\n",
      " [ 3.]\n",
      " ..., \n",
      " [ 3.]\n",
      " [ 3.]\n",
      " [ 3.]]\n"
     ]
    }
   ],
   "source": [
    "X_exp = samples[:][['X','Y','Z']].values\n",
    "mean = np.mean(X_exp, axis=0).reshape(1,3)\n",
    "std = np.std(X_exp, axis=0).reshape(1,3)\n",
    "X_exp = (X_exp - mean)/std\n",
    "Y_exp = np.ones((X_exp.shape[0], 1)) * 3\n",
    "\n",
    "print(\"Shape of input: \" + str(X_exp.shape))\n",
    "print(X_exp)\n",
    "print(\"Shape of output: \" + str(Y_exp.shape))\n",
    "print(Y_exp)"
   ]
  },
  {
   "cell_type": "markdown",
   "metadata": {},
   "source": [
    "- **Calculate experiment error rate**"
   ]
  },
  {
   "cell_type": "code",
   "execution_count": 10,
   "metadata": {
    "collapsed": false
   },
   "outputs": [
    {
     "name": "stdout",
     "output_type": "stream",
     "text": [
      "Experiment Error Rate: 0.960571428571\n"
     ]
    }
   ],
   "source": [
    "Y_exp_pred = clf.predict(X_exp)\n",
    "exp_error = 1 - accuracy_score(Y_exp, Y_exp_pred)\n",
    "\n",
    "print(\"Experiment Error Rate: \" + str(exp_error))"
   ]
  },
  {
   "cell_type": "markdown",
   "metadata": {},
   "source": [
    "- **Output Predictions**"
   ]
  },
  {
   "cell_type": "code",
   "execution_count": 11,
   "metadata": {
    "collapsed": true
   },
   "outputs": [],
   "source": [
    "np.savetxt(\"../server/data/predictions.csv\", Y_exp_pred, delimiter=\",\")"
   ]
  }
 ],
 "metadata": {
  "anaconda-cloud": {},
  "kernelspec": {
   "display_name": "Python [Root]",
   "language": "python",
   "name": "Python [Root]"
  },
  "language_info": {
   "codemirror_mode": {
    "name": "ipython",
    "version": 3
   },
   "file_extension": ".py",
   "mimetype": "text/x-python",
   "name": "python",
   "nbconvert_exporter": "python",
   "pygments_lexer": "ipython3",
   "version": "3.5.2"
  }
 },
 "nbformat": 4,
 "nbformat_minor": 1
}
