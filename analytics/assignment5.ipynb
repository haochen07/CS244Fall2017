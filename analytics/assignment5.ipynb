{
 "cells": [
  {
   "cell_type": "code",
   "execution_count": 85,
   "metadata": {
    "collapsed": true
   },
   "outputs": [],
   "source": [
    "import sklearn as skl\n",
    "import pandas as pd"
   ]
  },
  {
   "cell_type": "code",
   "execution_count": 86,
   "metadata": {
    "collapsed": false
   },
   "outputs": [
    {
     "data": {
      "text/html": [
       "<div>\n",
       "<table border=\"1\" class=\"dataframe\">\n",
       "  <thead>\n",
       "    <tr style=\"text-align: right;\">\n",
       "      <th></th>\n",
       "      <th>Time stamp</th>\n",
       "      <th>X</th>\n",
       "      <th>Y</th>\n",
       "      <th>Z</th>\n",
       "      <th>Activity</th>\n",
       "      <th>X.1</th>\n",
       "      <th>Y.1</th>\n",
       "      <th>Z.1</th>\n",
       "      <th>Activity .1</th>\n",
       "      <th>X.2</th>\n",
       "      <th>...</th>\n",
       "      <th>Z.2</th>\n",
       "      <th>Activity .2</th>\n",
       "      <th>X.3</th>\n",
       "      <th>Y.3</th>\n",
       "      <th>Z.3</th>\n",
       "      <th>Activity .3</th>\n",
       "      <th>X.4</th>\n",
       "      <th>Y.4</th>\n",
       "      <th>Z.4</th>\n",
       "      <th>Activity .4</th>\n",
       "    </tr>\n",
       "  </thead>\n",
       "  <tbody>\n",
       "    <tr>\n",
       "      <th>0</th>\n",
       "      <td>0.00</td>\n",
       "      <td>-1.44</td>\n",
       "      <td>6.97</td>\n",
       "      <td>6.67</td>\n",
       "      <td>1</td>\n",
       "      <td>-5.46</td>\n",
       "      <td>7.24</td>\n",
       "      <td>3.51</td>\n",
       "      <td>2</td>\n",
       "      <td>4.88</td>\n",
       "      <td>...</td>\n",
       "      <td>1.77</td>\n",
       "      <td>3</td>\n",
       "      <td>8.64</td>\n",
       "      <td>-12.19</td>\n",
       "      <td>4.34</td>\n",
       "      <td>4</td>\n",
       "      <td>14.13</td>\n",
       "      <td>-1.27</td>\n",
       "      <td>7.43</td>\n",
       "      <td>5</td>\n",
       "    </tr>\n",
       "    <tr>\n",
       "      <th>1</th>\n",
       "      <td>0.02</td>\n",
       "      <td>-1.50</td>\n",
       "      <td>6.90</td>\n",
       "      <td>6.62</td>\n",
       "      <td>1</td>\n",
       "      <td>-5.52</td>\n",
       "      <td>7.34</td>\n",
       "      <td>3.48</td>\n",
       "      <td>2</td>\n",
       "      <td>5.12</td>\n",
       "      <td>...</td>\n",
       "      <td>1.83</td>\n",
       "      <td>3</td>\n",
       "      <td>11.32</td>\n",
       "      <td>-12.78</td>\n",
       "      <td>7.61</td>\n",
       "      <td>4</td>\n",
       "      <td>19.61</td>\n",
       "      <td>1.19</td>\n",
       "      <td>7.88</td>\n",
       "      <td>5</td>\n",
       "    </tr>\n",
       "    <tr>\n",
       "      <th>2</th>\n",
       "      <td>0.04</td>\n",
       "      <td>-1.50</td>\n",
       "      <td>6.90</td>\n",
       "      <td>6.61</td>\n",
       "      <td>1</td>\n",
       "      <td>-5.42</td>\n",
       "      <td>7.30</td>\n",
       "      <td>3.73</td>\n",
       "      <td>2</td>\n",
       "      <td>5.34</td>\n",
       "      <td>...</td>\n",
       "      <td>2.15</td>\n",
       "      <td>3</td>\n",
       "      <td>9.85</td>\n",
       "      <td>-11.01</td>\n",
       "      <td>9.90</td>\n",
       "      <td>4</td>\n",
       "      <td>18.61</td>\n",
       "      <td>-2.27</td>\n",
       "      <td>9.45</td>\n",
       "      <td>5</td>\n",
       "    </tr>\n",
       "    <tr>\n",
       "      <th>3</th>\n",
       "      <td>0.06</td>\n",
       "      <td>-1.50</td>\n",
       "      <td>6.77</td>\n",
       "      <td>6.84</td>\n",
       "      <td>1</td>\n",
       "      <td>-5.43</td>\n",
       "      <td>7.40</td>\n",
       "      <td>3.40</td>\n",
       "      <td>2</td>\n",
       "      <td>5.95</td>\n",
       "      <td>...</td>\n",
       "      <td>2.32</td>\n",
       "      <td>3</td>\n",
       "      <td>7.23</td>\n",
       "      <td>-11.42</td>\n",
       "      <td>8.59</td>\n",
       "      <td>4</td>\n",
       "      <td>12.25</td>\n",
       "      <td>-3.78</td>\n",
       "      <td>8.55</td>\n",
       "      <td>5</td>\n",
       "    </tr>\n",
       "    <tr>\n",
       "      <th>4</th>\n",
       "      <td>0.08</td>\n",
       "      <td>-1.47</td>\n",
       "      <td>7.11</td>\n",
       "      <td>6.91</td>\n",
       "      <td>1</td>\n",
       "      <td>-5.43</td>\n",
       "      <td>7.36</td>\n",
       "      <td>3.39</td>\n",
       "      <td>2</td>\n",
       "      <td>6.52</td>\n",
       "      <td>...</td>\n",
       "      <td>2.60</td>\n",
       "      <td>3</td>\n",
       "      <td>5.44</td>\n",
       "      <td>-10.62</td>\n",
       "      <td>4.74</td>\n",
       "      <td>4</td>\n",
       "      <td>8.67</td>\n",
       "      <td>-2.30</td>\n",
       "      <td>5.67</td>\n",
       "      <td>5</td>\n",
       "    </tr>\n",
       "    <tr>\n",
       "      <th>5</th>\n",
       "      <td>0.10</td>\n",
       "      <td>-1.49</td>\n",
       "      <td>6.90</td>\n",
       "      <td>6.78</td>\n",
       "      <td>1</td>\n",
       "      <td>-5.46</td>\n",
       "      <td>7.32</td>\n",
       "      <td>3.51</td>\n",
       "      <td>2</td>\n",
       "      <td>6.91</td>\n",
       "      <td>...</td>\n",
       "      <td>2.87</td>\n",
       "      <td>3</td>\n",
       "      <td>2.99</td>\n",
       "      <td>-8.12</td>\n",
       "      <td>1.72</td>\n",
       "      <td>4</td>\n",
       "      <td>5.49</td>\n",
       "      <td>-2.39</td>\n",
       "      <td>5.43</td>\n",
       "      <td>5</td>\n",
       "    </tr>\n",
       "    <tr>\n",
       "      <th>6</th>\n",
       "      <td>0.12</td>\n",
       "      <td>-1.45</td>\n",
       "      <td>6.91</td>\n",
       "      <td>6.63</td>\n",
       "      <td>1</td>\n",
       "      <td>-5.47</td>\n",
       "      <td>7.33</td>\n",
       "      <td>3.52</td>\n",
       "      <td>2</td>\n",
       "      <td>6.75</td>\n",
       "      <td>...</td>\n",
       "      <td>3.41</td>\n",
       "      <td>3</td>\n",
       "      <td>1.90</td>\n",
       "      <td>-5.24</td>\n",
       "      <td>0.59</td>\n",
       "      <td>4</td>\n",
       "      <td>3.34</td>\n",
       "      <td>-2.16</td>\n",
       "      <td>5.83</td>\n",
       "      <td>5</td>\n",
       "    </tr>\n",
       "    <tr>\n",
       "      <th>7</th>\n",
       "      <td>0.14</td>\n",
       "      <td>-1.61</td>\n",
       "      <td>6.91</td>\n",
       "      <td>6.70</td>\n",
       "      <td>1</td>\n",
       "      <td>-5.44</td>\n",
       "      <td>7.22</td>\n",
       "      <td>3.71</td>\n",
       "      <td>2</td>\n",
       "      <td>6.66</td>\n",
       "      <td>...</td>\n",
       "      <td>3.97</td>\n",
       "      <td>3</td>\n",
       "      <td>1.90</td>\n",
       "      <td>-2.92</td>\n",
       "      <td>1.13</td>\n",
       "      <td>4</td>\n",
       "      <td>0.00</td>\n",
       "      <td>-1.55</td>\n",
       "      <td>3.38</td>\n",
       "      <td>5</td>\n",
       "    </tr>\n",
       "    <tr>\n",
       "      <th>8</th>\n",
       "      <td>0.16</td>\n",
       "      <td>-1.57</td>\n",
       "      <td>6.97</td>\n",
       "      <td>6.56</td>\n",
       "      <td>1</td>\n",
       "      <td>-5.45</td>\n",
       "      <td>7.43</td>\n",
       "      <td>3.50</td>\n",
       "      <td>2</td>\n",
       "      <td>7.31</td>\n",
       "      <td>...</td>\n",
       "      <td>4.21</td>\n",
       "      <td>3</td>\n",
       "      <td>2.46</td>\n",
       "      <td>-1.51</td>\n",
       "      <td>0.81</td>\n",
       "      <td>4</td>\n",
       "      <td>-2.54</td>\n",
       "      <td>-3.40</td>\n",
       "      <td>-0.12</td>\n",
       "      <td>5</td>\n",
       "    </tr>\n",
       "    <tr>\n",
       "      <th>9</th>\n",
       "      <td>0.18</td>\n",
       "      <td>-1.58</td>\n",
       "      <td>6.86</td>\n",
       "      <td>6.66</td>\n",
       "      <td>1</td>\n",
       "      <td>-5.40</td>\n",
       "      <td>7.32</td>\n",
       "      <td>3.50</td>\n",
       "      <td>2</td>\n",
       "      <td>7.68</td>\n",
       "      <td>...</td>\n",
       "      <td>4.19</td>\n",
       "      <td>3</td>\n",
       "      <td>3.33</td>\n",
       "      <td>-0.91</td>\n",
       "      <td>0.00</td>\n",
       "      <td>4</td>\n",
       "      <td>-2.04</td>\n",
       "      <td>-7.18</td>\n",
       "      <td>-1.47</td>\n",
       "      <td>5</td>\n",
       "    </tr>\n",
       "  </tbody>\n",
       "</table>\n",
       "<p>10 rows × 21 columns</p>\n",
       "</div>"
      ],
      "text/plain": [
       "   Time stamp     X     Y     Z  Activity    X.1   Y.1   Z.1  Activity .1  \\\n",
       "0        0.00 -1.44  6.97  6.67          1 -5.46  7.24  3.51            2   \n",
       "1        0.02 -1.50  6.90  6.62          1 -5.52  7.34  3.48            2   \n",
       "2        0.04 -1.50  6.90  6.61          1 -5.42  7.30  3.73            2   \n",
       "3        0.06 -1.50  6.77  6.84          1 -5.43  7.40  3.40            2   \n",
       "4        0.08 -1.47  7.11  6.91          1 -5.43  7.36  3.39            2   \n",
       "5        0.10 -1.49  6.90  6.78          1 -5.46  7.32  3.51            2   \n",
       "6        0.12 -1.45  6.91  6.63          1 -5.47  7.33  3.52            2   \n",
       "7        0.14 -1.61  6.91  6.70          1 -5.44  7.22  3.71            2   \n",
       "8        0.16 -1.57  6.97  6.56          1 -5.45  7.43  3.50            2   \n",
       "9        0.18 -1.58  6.86  6.66          1 -5.40  7.32  3.50            2   \n",
       "\n",
       "    X.2     ...        Z.2  Activity .2    X.3    Y.3   Z.3  Activity .3  \\\n",
       "0  4.88     ...       1.77            3   8.64 -12.19  4.34            4   \n",
       "1  5.12     ...       1.83            3  11.32 -12.78  7.61            4   \n",
       "2  5.34     ...       2.15            3   9.85 -11.01  9.90            4   \n",
       "3  5.95     ...       2.32            3   7.23 -11.42  8.59            4   \n",
       "4  6.52     ...       2.60            3   5.44 -10.62  4.74            4   \n",
       "5  6.91     ...       2.87            3   2.99  -8.12  1.72            4   \n",
       "6  6.75     ...       3.41            3   1.90  -5.24  0.59            4   \n",
       "7  6.66     ...       3.97            3   1.90  -2.92  1.13            4   \n",
       "8  7.31     ...       4.21            3   2.46  -1.51  0.81            4   \n",
       "9  7.68     ...       4.19            3   3.33  -0.91  0.00            4   \n",
       "\n",
       "     X.4   Y.4   Z.4  Activity .4  \n",
       "0  14.13 -1.27  7.43            5  \n",
       "1  19.61  1.19  7.88            5  \n",
       "2  18.61 -2.27  9.45            5  \n",
       "3  12.25 -3.78  8.55            5  \n",
       "4   8.67 -2.30  5.67            5  \n",
       "5   5.49 -2.39  5.43            5  \n",
       "6   3.34 -2.16  5.83            5  \n",
       "7   0.00 -1.55  3.38            5  \n",
       "8  -2.54 -3.40 -0.12            5  \n",
       "9  -2.04 -7.18 -1.47            5  \n",
       "\n",
       "[10 rows x 21 columns]"
      ]
     },
     "execution_count": 86,
     "metadata": {},
     "output_type": "execute_result"
    }
   ],
   "source": [
    "data = pd.read_csv('../server/data/sampleXYZ.csv')\n",
    "data[:10]"
   ]
  },
  {
   "cell_type": "code",
   "execution_count": 87,
   "metadata": {
    "collapsed": false
   },
   "outputs": [
    {
     "data": {
      "text/plain": [
       "(4500, 21)"
      ]
     },
     "execution_count": 87,
     "metadata": {},
     "output_type": "execute_result"
    }
   ],
   "source": [
    "data.shape"
   ]
  },
  {
   "cell_type": "code",
   "execution_count": 88,
   "metadata": {
    "collapsed": false
   },
   "outputs": [],
   "source": [
    "act1 = data[:][['X', 'Y', 'Z', 'Activity ']].rename(columns = { 'X':'X', 'Y':'Y', 'Z':'Z', 'Activity ':'Activity'})\n",
    "act2 = data[:][['X.1', 'Y.1', 'Z.1', 'Activity .1']].rename(columns = { 'X.1':'X', 'Y.1':'Y', 'Z.1':'Z', 'Activity .1':'Activity'})\n",
    "act3 = data[:][['X.2', 'Y.2', 'Z.2', 'Activity .2']].rename(columns = { 'X.2':'X', 'Y.2':'Y', 'Z.2':'Z', 'Activity .2':'Activity'})\n",
    "act4 = data[:][['X.3', 'Y.3', 'Z.3', 'Activity .3']].rename(columns = { 'X.3':'X', 'Y.3':'Y', 'Z.3':'Z', 'Activity .3':'Activity'})\n",
    "act5 = data[:][['X.4', 'Y.4', 'Z.4', 'Activity .4']].rename(columns = { 'X.4':'X', 'Y.4':'Y', 'Z.4':'Z', 'Activity .4':'Activity'})"
   ]
  },
  {
   "cell_type": "code",
   "execution_count": 89,
   "metadata": {
    "collapsed": false
   },
   "outputs": [
    {
     "data": {
      "text/html": [
       "<div>\n",
       "<table border=\"1\" class=\"dataframe\">\n",
       "  <thead>\n",
       "    <tr style=\"text-align: right;\">\n",
       "      <th></th>\n",
       "      <th>X</th>\n",
       "      <th>Y</th>\n",
       "      <th>Z</th>\n",
       "      <th>Activity</th>\n",
       "    </tr>\n",
       "  </thead>\n",
       "  <tbody>\n",
       "    <tr>\n",
       "      <th>0</th>\n",
       "      <td>-1.44</td>\n",
       "      <td>6.97</td>\n",
       "      <td>6.67</td>\n",
       "      <td>1</td>\n",
       "    </tr>\n",
       "    <tr>\n",
       "      <th>1</th>\n",
       "      <td>-1.50</td>\n",
       "      <td>6.90</td>\n",
       "      <td>6.62</td>\n",
       "      <td>1</td>\n",
       "    </tr>\n",
       "    <tr>\n",
       "      <th>2</th>\n",
       "      <td>-1.50</td>\n",
       "      <td>6.90</td>\n",
       "      <td>6.61</td>\n",
       "      <td>1</td>\n",
       "    </tr>\n",
       "    <tr>\n",
       "      <th>3</th>\n",
       "      <td>-1.50</td>\n",
       "      <td>6.77</td>\n",
       "      <td>6.84</td>\n",
       "      <td>1</td>\n",
       "    </tr>\n",
       "    <tr>\n",
       "      <th>4</th>\n",
       "      <td>-1.47</td>\n",
       "      <td>7.11</td>\n",
       "      <td>6.91</td>\n",
       "      <td>1</td>\n",
       "    </tr>\n",
       "    <tr>\n",
       "      <th>5</th>\n",
       "      <td>-1.49</td>\n",
       "      <td>6.90</td>\n",
       "      <td>6.78</td>\n",
       "      <td>1</td>\n",
       "    </tr>\n",
       "    <tr>\n",
       "      <th>6</th>\n",
       "      <td>-1.45</td>\n",
       "      <td>6.91</td>\n",
       "      <td>6.63</td>\n",
       "      <td>1</td>\n",
       "    </tr>\n",
       "    <tr>\n",
       "      <th>7</th>\n",
       "      <td>-1.61</td>\n",
       "      <td>6.91</td>\n",
       "      <td>6.70</td>\n",
       "      <td>1</td>\n",
       "    </tr>\n",
       "    <tr>\n",
       "      <th>8</th>\n",
       "      <td>-1.57</td>\n",
       "      <td>6.97</td>\n",
       "      <td>6.56</td>\n",
       "      <td>1</td>\n",
       "    </tr>\n",
       "    <tr>\n",
       "      <th>9</th>\n",
       "      <td>-1.58</td>\n",
       "      <td>6.86</td>\n",
       "      <td>6.66</td>\n",
       "      <td>1</td>\n",
       "    </tr>\n",
       "  </tbody>\n",
       "</table>\n",
       "</div>"
      ],
      "text/plain": [
       "      X     Y     Z  Activity\n",
       "0 -1.44  6.97  6.67         1\n",
       "1 -1.50  6.90  6.62         1\n",
       "2 -1.50  6.90  6.61         1\n",
       "3 -1.50  6.77  6.84         1\n",
       "4 -1.47  7.11  6.91         1\n",
       "5 -1.49  6.90  6.78         1\n",
       "6 -1.45  6.91  6.63         1\n",
       "7 -1.61  6.91  6.70         1\n",
       "8 -1.57  6.97  6.56         1\n",
       "9 -1.58  6.86  6.66         1"
      ]
     },
     "execution_count": 89,
     "metadata": {},
     "output_type": "execute_result"
    }
   ],
   "source": [
    "reshaped = pd.concat([act1, act2, act3, act4, act5], axis = 0)\n",
    "reshaped[:10]"
   ]
  },
  {
   "cell_type": "code",
   "execution_count": 90,
   "metadata": {
    "collapsed": false
   },
   "outputs": [
    {
     "data": {
      "text/plain": [
       "(22500, 4)"
      ]
     },
     "execution_count": 90,
     "metadata": {},
     "output_type": "execute_result"
    }
   ],
   "source": [
    "reshaped.shape"
   ]
  },
  {
   "cell_type": "code",
   "execution_count": 91,
   "metadata": {
    "collapsed": false
   },
   "outputs": [
    {
     "name": "stdout",
     "output_type": "stream",
     "text": [
      "(22500, 3) (22500, 1)\n"
     ]
    }
   ],
   "source": [
    "X = reshaped[['X', 'Y', 'Z']]\n",
    "Y = reshaped[['Activity']]\n",
    "print X.shape, Y.shape"
   ]
  },
  {
   "cell_type": "code",
   "execution_count": 92,
   "metadata": {
    "collapsed": false
   },
   "outputs": [],
   "source": [
    "from sklearn.utils import shuffle\n",
    "from sklearn.model_selection import train_test_split\n",
    "rX, rY = shuffle(X, Y, random_state=0)\n",
    "X_train, X_test, y_train, y_test = train_test_split(rX, rY, test_size=0.20, random_state=42)"
   ]
  },
  {
   "cell_type": "code",
   "execution_count": 93,
   "metadata": {
    "collapsed": false
   },
   "outputs": [
    {
     "data": {
      "text/plain": [
       "SVC(C=1.0, cache_size=200, class_weight=None, coef0=0.0,\n",
       "  decision_function_shape='ovr', degree=3, gamma='auto', kernel='rbf',\n",
       "  max_iter=-1, probability=False, random_state=None, shrinking=True,\n",
       "  tol=0.001, verbose=False)"
      ]
     },
     "execution_count": 93,
     "metadata": {},
     "output_type": "execute_result"
    }
   ],
   "source": [
    "from sklearn import svm\n",
    "clf = svm.SVC()\n",
    "clf.fit(X_train, y_train['Activity'])"
   ]
  },
  {
   "cell_type": "code",
   "execution_count": 94,
   "metadata": {
    "collapsed": true
   },
   "outputs": [],
   "source": [
    "y_pred = clf.predict(X_test)"
   ]
  },
  {
   "cell_type": "code",
   "execution_count": 95,
   "metadata": {
    "collapsed": false
   },
   "outputs": [
    {
     "name": "stdout",
     "output_type": "stream",
     "text": [
      "correctness: 0.938888888889\n"
     ]
    }
   ],
   "source": [
    "correct = 0.0\n",
    "size = len(y_test)\n",
    "correct = sum(y_pred == y_test['Activity'])\n",
    "print \"correctness:\", correct / float(size)"
   ]
  },
  {
   "cell_type": "code",
   "execution_count": null,
   "metadata": {
    "collapsed": true
   },
   "outputs": [],
   "source": []
  }
 ],
 "metadata": {
  "anaconda-cloud": {},
  "kernelspec": {
   "display_name": "Python [conda root]",
   "language": "python",
   "name": "conda-root-py"
  },
  "language_info": {
   "codemirror_mode": {
    "name": "ipython",
    "version": 2
   },
   "file_extension": ".py",
   "mimetype": "text/x-python",
   "name": "python",
   "nbconvert_exporter": "python",
   "pygments_lexer": "ipython2",
   "version": "2.7.12"
  }
 },
 "nbformat": 4,
 "nbformat_minor": 1
}
